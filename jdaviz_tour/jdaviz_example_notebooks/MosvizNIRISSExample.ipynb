{
 "cells": [
  {
   "cell_type": "markdown",
   "id": "2b2fcea7",
   "metadata": {},
   "source": [
    "# Mosviz NIRISS example notebook"
   ]
  },
  {
   "cell_type": "markdown",
   "id": "b180dd8a",
   "metadata": {},
   "source": [
    "Note: We silence most warnings for now. For debugging, you can comment out the next cell and then restart the kernel to re-enable warnings."
   ]
  },
  {
   "cell_type": "code",
   "execution_count": null,
   "id": "869727c8",
   "metadata": {},
   "outputs": [],
   "source": [
    "from astropy.utils.data import download_file\n",
    "import pathlib\n",
    "import tempfile\n",
    "import warnings\n",
    "from zipfile import ZipFile\n",
    "\n",
    "from jdaviz import Mosviz\n",
    "\n",
    "warnings.simplefilter('ignore')"
   ]
  },
  {
   "cell_type": "markdown",
   "id": "e3d6f12f",
   "metadata": {},
   "source": [
    "Next, start Mosviz."
   ]
  },
  {
   "cell_type": "code",
   "execution_count": null,
   "id": "f2233e63",
   "metadata": {
    "scrolled": false
   },
   "outputs": [],
   "source": [
    "mosviz = Mosviz()\n",
    "mosviz.show()"
   ]
  },
  {
   "cell_type": "markdown",
   "id": "694b9c3c",
   "metadata": {},
   "source": [
    "In the cells below, we download and extract an example dataset (a subset of the NIRISS \n",
    "data from the JWST GLASS early release science program)."
   ]
  },
  {
   "cell_type": "code",
   "execution_count": null,
   "id": "75d0e918",
   "metadata": {},
   "outputs": [],
   "source": [
    "# Run this cell if your desired data path is a temporary directory.\n",
    "data_dir = tempfile.gettempdir()"
   ]
  },
  {
   "cell_type": "raw",
   "id": "e795a477",
   "metadata": {},
   "source": [
    "# *** OR ***\n",
    "# Change this cell type to Code and run this cell if you have a different data path.\n",
    "# Replace the value with your real path.\n",
    "\n",
    "data_dir = \"/Users/username/Data/\""
   ]
  },
  {
   "cell_type": "code",
   "execution_count": null,
   "id": "2ac93c58",
   "metadata": {},
   "outputs": [],
   "source": [
    "example_data = 'https://stsci.box.com/shared/static/k94suj9yv9vdbusmcdrcodhxt9urwevr.zip'\n",
    "fn = download_file(example_data, cache=True)\n",
    "with ZipFile(fn, 'r') as sample_data_zip:\n",
    "    sample_data_zip.extractall(data_dir)\n",
    "\n",
    "level3_path = pathlib.Path(data_dir)\n",
    "data_dir = level3_path"
   ]
  },
  {
   "cell_type": "markdown",
   "id": "8bcd4639",
   "metadata": {},
   "source": [
    "Once the data is loaded with the code below, you can click any of the rows in the MOS table\n",
    "to display the data for the corresponding object."
   ]
  },
  {
   "cell_type": "code",
   "execution_count": null,
   "id": "1c75b8a1",
   "metadata": {},
   "outputs": [],
   "source": [
    "mosviz.load_data(directory=f\"{data_dir}/niriss_1324_reprocessed/\", instrument=\"niriss\")"
   ]
  },
  {
   "cell_type": "markdown",
   "id": "a8fb54e6",
   "metadata": {},
   "source": [
    "## MOS Table\n",
    "\n",
    "The MOS table itself can be accessed and modified from the API.  We can export the entire table to a `QTable` object:"
   ]
  },
  {
   "cell_type": "code",
   "execution_count": null,
   "id": "3021e7e6",
   "metadata": {},
   "outputs": [],
   "source": [
    "mosviz.to_table()"
   ]
  },
  {
   "cell_type": "markdown",
   "id": "a2799662",
   "metadata": {},
   "source": [
    "Here we see all the information shown in the UI table, in addition to a few additional columns.  Redshift, for example, is hidden in the UI unless at least one entry has a non-zero redshift assigned.  We can either assign the redshift from the Line List plugin, or programmatically (for the currently selected object)."
   ]
  },
  {
   "cell_type": "code",
   "execution_count": null,
   "id": "12b70e87",
   "metadata": {},
   "outputs": [],
   "source": [
    "mosviz.set_redshift(0.896)"
   ]
  },
  {
   "cell_type": "markdown",
   "id": "ddf4a25b",
   "metadata": {},
   "source": [
    "In addition to `to_table`, we can extract the array of a single column:"
   ]
  },
  {
   "cell_type": "code",
   "execution_count": null,
   "id": "8a8d2896",
   "metadata": {},
   "outputs": [],
   "source": [
    "mosviz.get_column('Redshift')"
   ]
  },
  {
   "cell_type": "markdown",
   "id": "aacde5bd",
   "metadata": {},
   "source": [
    "and can also pass an array to any column, or a value for a specific row:"
   ]
  },
  {
   "cell_type": "code",
   "execution_count": null,
   "id": "0387bab8",
   "metadata": {},
   "outputs": [],
   "source": [
    "mosviz.update_column('Redshift', 1.158, row=4)"
   ]
  },
  {
   "cell_type": "markdown",
   "id": "b7d87f8d",
   "metadata": {},
   "source": [
    "Additionally, we can add custom named columns.  Here we'll add a notes column and then populate the value for the second row:"
   ]
  },
  {
   "cell_type": "code",
   "execution_count": null,
   "id": "a66832c3",
   "metadata": {},
   "outputs": [],
   "source": [
    "mosviz.add_column('Notes')"
   ]
  },
  {
   "cell_type": "code",
   "execution_count": null,
   "id": "72938463",
   "metadata": {},
   "outputs": [],
   "source": [
    "mosviz.update_column('Notes', 'low S/N', row=2)"
   ]
  },
  {
   "cell_type": "markdown",
   "id": "677285d6",
   "metadata": {},
   "source": [
    "Once created, these columns will display by default in the UI.  To hide a column from the UI (but still include in the underlying table object to access with the API):"
   ]
  },
  {
   "cell_type": "code",
   "execution_count": null,
   "id": "5160e3e1",
   "metadata": {},
   "outputs": [],
   "source": [
    "mosviz.hide_column('Notes')"
   ]
  }
 ],
 "metadata": {
  "kernelspec": {
   "display_name": "Python 3 (ipykernel)",
   "language": "python",
   "name": "python3"
  },
  "language_info": {
   "codemirror_mode": {
    "name": "ipython",
    "version": 3
   },
   "file_extension": ".py",
   "mimetype": "text/x-python",
   "name": "python",
   "nbconvert_exporter": "python",
   "pygments_lexer": "ipython3",
   "version": "3.10.6"
  }
 },
 "nbformat": 4,
 "nbformat_minor": 5
}
