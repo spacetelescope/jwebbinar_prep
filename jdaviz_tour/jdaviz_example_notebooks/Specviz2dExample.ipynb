{
 "cells": [
  {
   "cell_type": "markdown",
   "id": "73ca6a10",
   "metadata": {},
   "source": [
    "# Specviz2d Demonstration Notebook\n",
    "This notebook demonstrates the Specviz2d API in the Notebook setting. General documentation about Jdaviz UI and interactions can be found here: https://jdaviz.readthedocs.io/en/latest/index.html"
   ]
  },
  {
   "cell_type": "markdown",
   "id": "ec894f29",
   "metadata": {},
   "source": [
    "## Create Specviz2d via Helper"
   ]
  },
  {
   "cell_type": "code",
   "execution_count": null,
   "id": "f99e3d2d",
   "metadata": {},
   "outputs": [],
   "source": [
    "import tempfile\n",
    "\n",
    "from astroquery.mast import Observations\n",
    "\n",
    "from jdaviz import Specviz2d\n",
    "\n",
    "specviz2d = Specviz2d()"
   ]
  },
  {
   "cell_type": "markdown",
   "id": "0ed07713",
   "metadata": {},
   "source": [
    "## Display Specviz2d"
   ]
  },
  {
   "cell_type": "code",
   "execution_count": null,
   "id": "45802673",
   "metadata": {},
   "outputs": [],
   "source": [
    "specviz2d.show()"
   ]
  },
  {
   "cell_type": "markdown",
   "id": "c5d391ee",
   "metadata": {},
   "source": [
    "## Load a File\n",
    "\n",
    "We use the `astroquery` package to download a JWST NIRSpec 2D spectrum file\n",
    "from [MAST](https://mast.stsci.edu/), and then load the downloaded file into\n",
    "our `Specviz2d` instance. By default the downloaded file goes to your temp directory,\n",
    "and thus may eventually be garbage collected (deleted) by your system. If you would\n",
    "like to have the file permanently, simply uncomment the second line below and provide\n",
    "the directory path on your system where you would like the file stored.\n",
    "\n",
    "One other thing to note about retrieving MAST data through astroquery is that it caches\n",
    "the data by default. It is possible for files to be updated in MAST with more recent calibrations\n",
    "but remain the same size, in which case your local cached file would not be replaced by the new\n",
    "version. You can turn off caching by setting `cache=False` in the `download_file` call to\n",
    "force it to re-download the file if desired."
   ]
  },
  {
   "cell_type": "code",
   "execution_count": null,
   "id": "b962e74a",
   "metadata": {},
   "outputs": [],
   "source": [
    "data_dir = tempfile.gettempdir()\n",
    "#data_dir = \"/User/username/Data/\"\n",
    "\n",
    "fn = \"jw01538-o160_s00004_nirspec_f170lp-g235h-s1600a1-sub2048_s2d.fits\"\n",
    "uri = f\"mast:JWST/product/{fn}\"\n",
    "result = Observations.download_file(uri, local_path=f'{data_dir}/{fn}')"
   ]
  },
  {
   "cell_type": "code",
   "execution_count": null,
   "id": "ec94837b",
   "metadata": {},
   "outputs": [],
   "source": [
    "specviz2d.load_data(f'{data_dir}/{fn}')"
   ]
  },
  {
   "cell_type": "markdown",
   "id": "795bc520",
   "metadata": {},
   "source": [
    "Alternatively, the data and the configuration can be autodetected and loaded simultaneously by calling `jdaviz.open(f'{data_dir}/{fn}')`"
   ]
  }
 ],
 "metadata": {
  "kernelspec": {
   "display_name": "Python 3 (ipykernel)",
   "language": "python",
   "name": "python3"
  },
  "language_info": {
   "codemirror_mode": {
    "name": "ipython",
    "version": 3
   },
   "file_extension": ".py",
   "mimetype": "text/x-python",
   "name": "python",
   "nbconvert_exporter": "python",
   "pygments_lexer": "ipython3",
   "version": "3.10.10"
  }
 },
 "nbformat": 4,
 "nbformat_minor": 5
}
