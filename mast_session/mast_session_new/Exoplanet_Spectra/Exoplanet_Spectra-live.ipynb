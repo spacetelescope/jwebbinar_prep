{
 "cells": [
  {
   "cell_type": "markdown",
   "id": "cd633213",
   "metadata": {},
   "source": [
    "# JWST SI Search for Exoplanet Spectra\n",
    "## Introduction\n",
    "\n",
    "This tutorial will illustrate how to use the MAST API to search for JWST science data by values of [FITS](https://fits.gsfc.nasa.gov/fits_standard.html) header keywords, and then retrieve all products for the corresponding observations. \n",
    "Searching by SI Keyword values and accessing all data products is not supported in the [MAST Portal](https://mast.stsci.edu/portal/Mashup/Clients/Mast/Portal.html), nor with the [astroquery.mast](https://astroquery.readthedocs.io/en/latest/mast/mast.html) `Observations` class by itself. Rather, we will be using `astroquery.mast`'s `Mast` class to make direct calls to the MAST API. \n",
    "\n",
    "Specifically, this tutorial will show you how to:\n",
    "* Use the `Mast` class of [astroquery.mast](https://astroquery.readthedocs.io/en/latest/mast/mast.html) to search for JWST science files by values of [FITS](https://fits.gsfc.nasa.gov/fits_standard.html) header keywords\n",
    "* Construct a unique set of Observation IDs to perform a search with the astroquery.mast `Observation` class\n",
    "* Fetch the unique data products associated with the Observations\n",
    "* Filter the results for science products\n",
    "* Download a bash script to retrieve the filtered products\n",
    "\n",
    "<div class=\"alert alert-block alert-info\">\n",
    "\n",
    "<span style=\"color:black\">\n",
    "Here are key distinctions between the two search methods with <a href=\"https://astroquery.readthedocs.io/en/latest/mast/mast.html\">astroquery.mast</a>:\n",
    "    <ul>\n",
    "        <li> <b>Advanced Search for Observations:</b> Uses the <code>Observations</code> class to search for data products that match certain metadata values. The <a href=\"https://mast.stsci.edu/api/v0/_productsfields.html\">available metadata</a> upon which to conduct such a search is limited to coordinates, timestamps, and a modest set of instrument configuration information. Returns MAST <code>Observations</code> objects, which are collections of all levels of products (all formats) and all ancillary data products. </li>\n",
    "        <li> <b>SI Keyword Search:</b> Uses the <code>Mast</code> class to search for FITS products that match values of user-specified keywords, where the set of possible keywords is very large. Returns only FITS products, and only finds highest level of calibrated products (generally, L-2b and L-3). </li>\n",
    "    </ul>\n",
    "</span>\n",
    "</div>"
   ]
  },
  {
   "cell_type": "markdown",
   "id": "817445bc",
   "metadata": {},
   "source": [
    "Connecting files that match keyword values to observations is not difficult, but it is a little convoluted. First, you'll use the API to perform a Science Instrument (SI) Keyword Search to find matching product files. The names of these files contain the MAST Observation ID as a sub-string. Then we can use the IDs to perform an advanced `Observation` search for matching Observations.\n",
    "\n",
    "Here are the steps in the process:\n",
    "<ul>\n",
    "    <li><a href=\"#Imports\">Imports</a></li><br>\n",
    "    Part I\n",
    "    <li><a href=\"#Example\">Keyword Search for Exoplanet Spectra</a></li>\n",
    "    <ul>\n",
    "        <li><a href=\"#Criteria\">Specify Search Criteria</a></li>\n",
    "        <li><a href=\"#Timestamp\">Timestamp</a></li>\n",
    "        <li><a href=\"#KW Search\">Execute the Keyword Search</a></li>\n",
    "    </ul><br>\n",
    "    Part II\n",
    "    <li><a href=\"#Obs IDs\">The Observation Search</a></li>\n",
    "    <ul>\n",
    "        <li><a href=\"#Obs Query\">Execute the Observation Search</a></li>\n",
    "    </ul><br>\n",
    "    Part III\n",
    "    <li><a href=\"#Data Products\">Query for Data Products</a></li>\n",
    "    <ul>\n",
    "        <li><a href=\"#Product Filters\">Filter the Data Products</a></li>\n",
    "        <li><a href=\"#Download Products\">Download the Data Products</a></li>\n",
    "            <ul>\n",
    "                <li><a href=\"#Login\">MAST Login</a></li>\n",
    "                <li><a href=\"#Retrieve Files\">Retrieve Files</a></li>\n",
    "            </ul>\n",
    "    </ul><br>\n",
    "    <li><a href=\"#Resources\">Additional Resources</a></li>\n",
    "</ul>\n"
   ]
  },
  {
   "cell_type": "markdown",
   "id": "0e819a61",
   "metadata": {},
   "source": [
    "## Imports\n",
    "<a id=\"Imports\"></a>\n",
    "\n",
    "The following packages are needed for this tutorial: \n",
    "* [astropy.io](https://docs.astropy.org/en/stable/io/fits/index.html?highlight=astropy.io) allows us to open the `.fits` files that we download\n",
    "* [astropy.table](https://docs.astropy.org/en/stable/table/index.html?highlight=astropy.table) holds the results of our product query and finds the unique files\n",
    "* [astropy.time](https://docs.astropy.org/en/stable/time/index.html) creates `Time` objects and converts between time representations\n",
    "* [astroquery.mast](https://astroquery.readthedocs.io/en/latest/mast/mast.html) constructs the queries, retrieves tables of results, and retrieves data products\n",
    "* [matplotlib.pyplot](https://matplotlib.org/stable/tutorials/index.html) is a common plotting tool that we'll use to look at our results"
   ]
  },
  {
   "cell_type": "code",
   "execution_count": null,
   "id": "0ed11ba7",
   "metadata": {},
   "outputs": [],
   "source": [
    "from astropy.io import fits\n",
    "from astropy.table import unique, vstack\n",
    "from astropy.time import Time\n",
    "from astroquery.mast import Mast,Observations\n",
    "\n",
    "import matplotlib.pyplot as plt"
   ]
  },
  {
   "cell_type": "markdown",
   "id": "f0e6f612",
   "metadata": {},
   "source": [
    "# I : Keyword Search for Exoplanet Spectra\n",
    "<a id=\"Example\"></a>\n",
    "\n",
    "This example shows how to search for [NIRISS spectral time-series observations (TSO)](https://jwst-docs.stsci.edu/jwst-near-infrared-imager-and-slitless-spectrograph/niriss-observing-modes/niriss-single-object-slitless-spectroscopy) taken of transiting exo-planets. The data are from Commissioning or Early Release Science programs, and are therefore public. \n",
    "\n",
    "## Specify Search Criteria\n",
    "<a id=\"Criteria\"></a>\n",
    "\n",
    "The criteria for SI Keyword searches consists of FITS header keyword name/value pairs. **Learn more about SI keywords from the [JWST Keyword Dictionary](https://mast.stsci.edu/portal/Mashup/Clients/jwkeywords/index.html), and about the supported set of [keyword values](https://mast.stsci.edu/api/v0/_jwst_inst_keywd.html) that can be queried.** With this kind of query it is necessary to construct a specific structure to hold the query parameters. \n",
    "\n",
    "The following helper routines translate a simple dictionary (one that is easy to customize in Python) to the required [JSON](https://www.w3schools.com/js/js_json_intro.asp)-style syntax, while the second creates a Min:Max pair of parameters for date-time stamps which, as with all parameters that vary continuously, must be expressed as a range of values in a dictionary. "
   ]
  },
  {
   "cell_type": "code",
   "execution_count": null,
   "id": "10c02928",
   "metadata": {},
   "outputs": [],
   "source": [
    "def set_params(parameters):\n",
    "    return [{\"paramName\" : p, \"values\" : v} for p, v in parameters.items()]\n",
    "\n",
    "def set_mjd_range(min, max):\n",
    "    '''Set time range in MJD given limits expressed as ISO-8601 dates'''\n",
    "    return {\n",
    "        \"min\": Time(min, format='isot').mjd, \n",
    "        \"max\": Time(max, format='isot').mjd\n",
    "        }"
   ]
  },
  {
   "cell_type": "markdown",
   "id": "f8e5f3e3",
   "metadata": {},
   "source": [
    "### Timestamp\n",
    "<a id=\"Timestamp\"></a>\n",
    "\n",
    "A date range is specified here (though is not strictly needed) to illustrate how to express these common parameters. For historical reasons, the `astroquery.mast` parameter names for timestamps come in pairs: one with a similar name to the corresponding FITS keyword (e.g. `data_obs`), and another with the string <code>_mjd</code> appended (e.g. `date_obs_mjd`). The values are equivalent, but are expressed in ISO-8601 and MJD representations, respectively. \n",
    "\n",
    "Change or add keywords and values to the <code>keywords</code> dictionary below to customize your criteria. Note that multiple, discreet-valued parameters are given in a list. As a reminder, if you are unsure of your keyword and keyword value options, see the [Field Descriptions of JWST Instrument Keywords](https://mast.stsci.edu/api/v0/_jwst_inst_keywd.html) and [JWST Keyword Dictionary](https://mast.stsci.edu/portal/Mashup/Clients/jwkeywords/index.html)."
   ]
  },
  {
   "cell_type": "code",
   "execution_count": null,
   "id": "a7454aea",
   "metadata": {},
   "outputs": [],
   "source": [
    "# Looking for NIRISS SOSS commissioning and ERA data taken between June 1st and August 4th\n",
    "\n",
    "\n",
    "# Restructuring the keywords dictionary to the MAST syntax\n"
   ]
  },
  {
   "cell_type": "markdown",
   "id": "eeecd0b8",
   "metadata": {},
   "source": [
    "The following cell displays the constructed parameter object to illustrate the syntax for the query, which is described formally [here](https://mast.stsci.edu/api/v0/_services.html#MastScienceInstrumentKeywordsNircam). "
   ]
  },
  {
   "cell_type": "code",
   "execution_count": null,
   "id": "c3ef4b17",
   "metadata": {},
   "outputs": [],
   "source": []
  },
  {
   "cell_type": "markdown",
   "id": "d584c72a",
   "metadata": {},
   "source": [
    "<a id=\"KW Search\"></a>\n",
    "## Execute the SI Keyword Search\n",
    "This type of query is a little more primitive in [astroquery.mast](https://astroquery.readthedocs.io/en/latest/mast/mast.html) than that for the `Observations` class. Begin by specifying the webservice for the query, which for this case is the SI keyword search for NIRISS called [Mast.Jwst.Filtered.Niriss](https://mast.stsci.edu/api/v0/_services.html#MastScienceInstrumentKeywordsNiriss). Then execute the query with arguments for the service and the search parameters that we created above."
   ]
  },
  {
   "cell_type": "code",
   "execution_count": null,
   "id": "e08f9e66",
   "metadata": {},
   "outputs": [],
   "source": [
    "# Calling the SI keyword search service for NIRISS with our parameters\n",
    "\n",
    "\n",
    "# Let's display the notebook\n"
   ]
  },
  {
   "cell_type": "markdown",
   "id": "509e27b3",
   "metadata": {},
   "source": [
    "<a id=\"Obs IDs\"></a>\n",
    "# II: Construct the Observation Search\n",
    "\n",
    "The keyword search returns an astropy table of *files* that match the query criteria. We need to construct MAST Observation IDs from the file names in order to query for all JWST *Observations* that match our criteria. This can be derived from the filenames by removing all characters after and including the final underscore character. Here we make a list of unique Observation IDs for the subsequent query. Note that we limit the list to *unique* IDs, as many filenames have common roots."
   ]
  },
  {
   "cell_type": "code",
   "execution_count": null,
   "id": "d2cdd491",
   "metadata": {},
   "outputs": [],
   "source": [
    "# Unique file names:\n",
    "\n",
    "\n",
    "# Set of derived Observation IDs:\n"
   ]
  },
  {
   "cell_type": "markdown",
   "id": "d1b1567a",
   "metadata": {},
   "source": [
    "Print the list of unique ids if you like."
   ]
  },
  {
   "cell_type": "code",
   "execution_count": null,
   "id": "f34e0487",
   "metadata": {},
   "outputs": [],
   "source": []
  },
  {
   "cell_type": "markdown",
   "id": "425d4bd7",
   "metadata": {},
   "source": [
    "### Execute the Query for Observations\n",
    "<a id=\"Obs Query\"></a>\n",
    "\n",
    "Now search for Observations that match the list of Observation IDs constructed above. This search uses the [astroquery.mast](https://astroquery.readthedocs.io/en/latest/mast/mast.html) `Observations` class, where the available search criteria are [described here](https://mast.stsci.edu/api/v0/_c_a_o_mfields.html). \n",
    "\n",
    "Note that the Observation ID (`obs_id`) criteria queried for here is not to be confused with the `obsid` that was shown in `Crowded_Fields`: The difference between the two criteria are explained in the CAOM Field Descriptions page linked just above."
   ]
  },
  {
   "cell_type": "code",
   "execution_count": null,
   "id": "ab8c0310",
   "metadata": {},
   "outputs": [],
   "source": [
    "# Getting the observations using the `obs_id`s extracted above\n",
    "\n",
    "\n",
    "# Let's display the notebook \n"
   ]
  },
  {
   "cell_type": "markdown",
   "id": "9080f483",
   "metadata": {},
   "source": [
    "Verify that your query matched at least one observation, or the remaining steps will fail."
   ]
  },
  {
   "cell_type": "code",
   "execution_count": null,
   "id": "646b96c7",
   "metadata": {},
   "outputs": [],
   "source": [
    "print(f'Found {len(matched_obs)} matching Observations.')"
   ]
  },
  {
   "cell_type": "markdown",
   "id": "61a482b4",
   "metadata": {},
   "source": [
    "<a id=\"Data Products\"></a>\n",
    "# III: Query for Data Products\n",
    "\n",
    "Next we'll fetch the data products that are connected to each Observation. Here we take care to fetch the products from Observations a few at a time (in chunks) to avoid server timeouts. This can happen if there are a large number of files in one or more of the matched Observations. A larger batch size will execute faster, but increases the risk of a server timeout.\n",
    "\n",
    "The following bit of python magic splits a single long list into a list of smaller lists, each of which has a size no larger than `batch_size`."
   ]
  },
  {
   "cell_type": "code",
   "execution_count": null,
   "id": "c5c1c08a",
   "metadata": {},
   "outputs": [],
   "source": []
  },
  {
   "cell_type": "markdown",
   "id": "0349477a",
   "metadata": {},
   "source": [
    "Now fetch the constituent products in a list of tables."
   ]
  },
  {
   "cell_type": "code",
   "execution_count": null,
   "id": "84b78624",
   "metadata": {},
   "outputs": [],
   "source": []
  },
  {
   "cell_type": "markdown",
   "id": "0075100e",
   "metadata": {},
   "source": [
    "We need to stack the individual tables and extract a unique set of file names. This avoids redundancy because Observations often have many files in common (e.g., guide-star files). "
   ]
  },
  {
   "cell_type": "code",
   "execution_count": null,
   "id": "5c6386ca",
   "metadata": {},
   "outputs": [],
   "source": []
  },
  {
   "cell_type": "markdown",
   "id": "b883a0d8",
   "metadata": {},
   "source": [
    "Display the resulting list of files if you like. "
   ]
  },
  {
   "cell_type": "code",
   "execution_count": null,
   "id": "21a450dc",
   "metadata": {},
   "outputs": [],
   "source": []
  },
  {
   "cell_type": "markdown",
   "id": "9a115fee",
   "metadata": {},
   "source": [
    "### Filter the Data Products\n",
    "<a id=\"Product Filters\"></a>\n",
    "\n",
    "If there are a subset of products of interest (or, a set of products you would like to exclude) there are a number of ways to do that. The cell below applies a filter to select only calibration level 2 and 3 spectral products classified as `SCIENCE` plus the `INFO` files that define product associations; it also excludes guide-star products. See the full set of [Products Field Descriptions](https://mast.stsci.edu/api/v0/_productsfields.html) for the all queryable fields."
   ]
  },
  {
   "cell_type": "code",
   "execution_count": null,
   "id": "1cbf1fd7",
   "metadata": {},
   "outputs": [],
   "source": [
    "# Retrieve level 2 and 3 SCIENCE and INFO products of type spectrum.\n"
   ]
  },
  {
   "cell_type": "markdown",
   "id": "9191079a",
   "metadata": {},
   "source": [
    "Display selected columns of the filtered products, if you like."
   ]
  },
  {
   "cell_type": "code",
   "execution_count": null,
   "id": "8877fa35",
   "metadata": {
    "scrolled": false
   },
   "outputs": [],
   "source": []
  },
  {
   "cell_type": "markdown",
   "id": "7b6ec36e",
   "metadata": {},
   "source": [
    "<a id=\"Download Products\"></a>\n",
    "## Download the Data Products\n",
    "\n",
    "We'll go over your options for data downloads in the sections below. Note that for public data, you will not need to login.\n",
    "\n",
    "<a id=\"Login\"></a>\n",
    "### Optional: MAST Login\n",
    "\n",
    "If you intend to retrieve data that are protected by an Exclusive Access Period (EAP), you will need to be both *authorized* and *authenticated*. You can authenticate by presenting a valid [Auth.MAST](https://auth.mast.stsci.edu/info) token with the login function. (See [MAST User Accounts](https://outerspace.stsci.edu/display/MASTDOCS/MAST+User+Accounts) for more information about whether you need to login.) Note: this step is unnecessary if you are only retrieving public data. \n",
    "\n",
    "<div class=\"alert alert-block alert-warning\">\n",
    "\n",
    "<span style=\"color:black\">\n",
    "    If you have arrived at this point, wish to retrieve EAP products, and have <b>not</b> establihed a token, you need to do the following:\n",
    "    <ul>\n",
    "        <li> Create a token here: <a href=\"https://auth.mast.stsci.edu/info\">Auth.MAST</a>\n",
    "        <li> Cut/paste the token string in response to the prompt that will appear when downloading the script. </li>\n",
    "    </ul>\n",
    "    Defining the token string as an environment variable <b>will not work</b> for an already-running notebook.\n",
    "</span>\n",
    "</div>"
   ]
  },
  {
   "cell_type": "code",
   "execution_count": null,
   "id": "8a71b61a",
   "metadata": {},
   "outputs": [],
   "source": [
    "# Observations.login()"
   ]
  },
  {
   "cell_type": "markdown",
   "id": "142cc506",
   "metadata": {},
   "source": [
    "<a id=\"Retrieve Files\"></a>\n",
    "### Retrieve FIles\n",
    "\n",
    "Now let's fetch the products. The example below shows how to retrieve a bash script (rather than direct file download) to retreive our entire list at once. Scripts are a much better choice if the number of files in the download manifest is large (>100)."
   ]
  },
  {
   "cell_type": "code",
   "execution_count": null,
   "id": "4c3ed577",
   "metadata": {},
   "outputs": [],
   "source": [
    "# Downloading via a bash script.\n",
    "\n",
    "manifest = Observations.download_products(filtered_products,\n",
    "                                          curl_flag=True\n",
    "                                         )"
   ]
  },
  {
   "cell_type": "markdown",
   "id": "c6b1a3a2",
   "metadata": {},
   "source": [
    "In the interest of time (and not crashing our servers), we will download one small product from our list above. Let's download a reasonably sized 10MB file. The file we choose is raw spectral data, so additional extractiong would be needed for scientific analysis."
   ]
  },
  {
   "cell_type": "code",
   "execution_count": null,
   "id": "8b229451",
   "metadata": {},
   "outputs": [],
   "source": [
    "manifest = Observations.download_products(filtered_products[9])"
   ]
  },
  {
   "cell_type": "markdown",
   "id": "f25a5b7f",
   "metadata": {},
   "source": [
    "We can actually visualize the raw data from which the spectrum can be extracted:"
   ]
  },
  {
   "cell_type": "code",
   "execution_count": null,
   "id": "36355f48",
   "metadata": {},
   "outputs": [],
   "source": [
    "sci = fits.getdata(manifest['Local Path'][0], 1)\n",
    "\n",
    "plt.figure(figsize=(15,150))\n",
    "plt.imshow(sci);"
   ]
  },
  {
   "cell_type": "markdown",
   "id": "b99f1d42",
   "metadata": {},
   "source": [
    "We are, in effect, seeing the [raw spectrum on the detector](https://jwst-docs.stsci.edu/jwst-near-infrared-imager-and-slitless-spectrograph/niriss-observing-modes/niriss-single-object-slitless-spectroscopy#NIRISSSingleObjectSlitlessSpectroscopy-SOSSsubarrays); if you look closely at the section of the brightest line in the upper right corner of the figure, you can see absorbtion lines."
   ]
  },
  {
   "cell_type": "markdown",
   "id": "4bbd8b7f",
   "metadata": {},
   "source": [
    "<a id=\"Resources\"></a>\n",
    "# Additional Resources\n",
    "\n",
    "The links below take you to documentation that you might find useful when constructing queries.\n",
    "\n",
    "* [astropy](https://docs.astropy.org/en/stable/index.html) documentation\n",
    "* [astroquery.mast](https://astroquery.readthedocs.io/en/latest/mast/mast.html) documentation for querying MAST\n",
    "* [Field Descriptions for JWST Instrument Keywords](https://mast.stsci.edu/api/v0/_jwst_inst_keywd.html)\n",
    "* [Queryable fields](https://mast.stsci.edu/api/v0/_c_a_o_mfields.html) in the MAST/CAOM database"
   ]
  },
  {
   "cell_type": "markdown",
   "id": "88295faf",
   "metadata": {},
   "source": [
    "## About this notebook\n",
    "\n",
    "This notebook was developed by Archive Sciences Branch staff: chiefly Dick Shaw, with additional editing from Jenny Medina and Thomas Dutkiewicz. For support, please contact the Archive HelpDesk at archive@stsci.edu, or through the [JWST HelpDesk Portal](https://jwsthelp.stsci.edu). \n",
    "<img style=\"float: right;\" src=\"https://raw.githubusercontent.com/spacetelescope/notebooks/master/assets/stsci_pri_combo_mark_horizonal_white_bkgd.png\" alt=\"Space Telescope Logo\" width=\"200px\"/>"
   ]
  }
 ],
 "metadata": {
  "kernelspec": {
   "display_name": "Python 3 (ipykernel)",
   "language": "python",
   "name": "python3"
  },
  "language_info": {
   "codemirror_mode": {
    "name": "ipython",
    "version": 3
   },
   "file_extension": ".py",
   "mimetype": "text/x-python",
   "name": "python",
   "nbconvert_exporter": "python",
   "pygments_lexer": "ipython3",
   "version": "3.9.7"
  }
 },
 "nbformat": 4,
 "nbformat_minor": 5
}
