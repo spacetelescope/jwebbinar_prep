{
 "cells": [
  {
   "cell_type": "markdown",
   "id": "383eeccc",
   "metadata": {},
   "source": [
    "<a id=\"top\"></a>\n",
    "# Introduction to Jupyter Notebook\n",
    "This is a crash-course introduction to Jupyter Notebooks, for those who haven't used them before. You'll learn how to \n",
    "* [Toggle Notebook Cell Types](#Cell-Types)\n",
    "* [Execute Cells](#Executing-Cells)\n",
    "* [Write Code Across Multiple Cells](#Writing-Code-Across-Multiple-Cells)\n",
    "\n",
    "## Cell Types\n",
    "This is a [Markdown](https://www.markdownguide.org) cell, which is a text field. It's a good place to write instructions, additional comments about code, or notes on results. You can toggle between 'Code' cells (see below) and '[Markdown](https://www.markdownguide.org)' using the drop-down menu in the toolbar. You can also use `Esc` + `m` + `Enter` to swtich to a markdown cell, or `Esc` + `y` + `Enter` for a code cell. \n",
    "\n",
    "To add more cells, use the 'Plus' button in the toolbar. You can rearrange the order of cells using the 'Up' and 'Down' arrows, also in the toolbar.\n",
    "\n",
    "## Executing Cells\n",
    "When you have finished editing any type of cell, press `Control` + `Enter` to execute."
   ]
  },
  {
   "cell_type": "code",
   "execution_count": null,
   "id": "312207ae",
   "metadata": {},
   "outputs": [],
   "source": [
    "# This is a code cell. Write Python here as you would anywhere else.\n",
    "# Control + Enter will execute the code and print any output below\n",
    "\n",
    "print('Hello, world!')"
   ]
  },
  {
   "cell_type": "markdown",
   "id": "03e10515",
   "metadata": {},
   "source": [
    "Before code cells have been run, `In []:` appears to the left of the cell. During execution, you'll see `In [*]:` to indicate that your code is actively running. Upon completetion, cells are numbered in the order they are executed; after running the 'Hello, world!' example above, you should see `In [1]:`.\n",
    "\n",
    "## Writing Code Across Multiple Cells\n",
    "Any imported packages persist across cells for as long as the notebook kernel remains active. In fact, since the kernel is shared between all notebook cells, you can also define functions or set variables in one cell, then use them in another. Let's look at this below:"
   ]
  },
  {
   "cell_type": "code",
   "execution_count": null,
   "id": "6cfa1696",
   "metadata": {},
   "outputs": [],
   "source": [
    "# Run this cell first!\n",
    "\n",
    "# Normally, it's best practice to put all imports in their own cell, at the top of the notebook\n",
    "import numpy as np\n",
    "\n",
    "# We'll define the 'squaring function' for later use\n",
    "def square(x):\n",
    "    return x**2"
   ]
  },
  {
   "cell_type": "code",
   "execution_count": null,
   "id": "97867950",
   "metadata": {},
   "outputs": [],
   "source": [
    "# Notice that we can use numpy, even though it was imported in the last cell\n",
    "y = np.arange(1, 10, 2)\n",
    "print(y)\n",
    "\n",
    "# Likewise, our 'squaring' function will still work in this cell\n",
    "print(square(y))"
   ]
  },
  {
   "cell_type": "markdown",
   "id": "e8e02319",
   "metadata": {},
   "source": [
    "## Further Reading\n",
    "* For more helpful keyboard shortcuts, click the \"Help\" menu in the toolbar, followed by 'Keyboard Shortcuts'. "
   ]
  },
  {
   "cell_type": "markdown",
   "id": "8932b90f",
   "metadata": {},
   "source": [
    "## About this Notebook:\n",
    "This notebook was produced for, and is intended to accompnay, the [17th JWST JWebbinar](https://www.stsci.edu/jwst/science-execution/jwebbinars).\n",
    "\n",
    "**Author**: Thomas Dutkiewicz <br>\n",
    "**Keywords**: Jupyter Notebook, JWST, JWebbinar"
   ]
  },
  {
   "cell_type": "markdown",
   "id": "dfb2c17b",
   "metadata": {},
   "source": [
    "[Top of Page](#top)\n",
    "<img style=\"float: right;\" src=\"https://raw.githubusercontent.com/spacetelescope/notebooks/master/assets/stsci_pri_combo_mark_horizonal_white_bkgd.png\" alt=\"Space Telescope Logo\" width=\"200px\"/>"
   ]
  }
 ],
 "metadata": {
  "kernelspec": {
   "display_name": "Python 3 (ipykernel)",
   "language": "python",
   "name": "python3"
  },
  "language_info": {
   "codemirror_mode": {
    "name": "ipython",
    "version": 3
   },
   "file_extension": ".py",
   "mimetype": "text/x-python",
   "name": "python",
   "nbconvert_exporter": "python",
   "pygments_lexer": "ipython3",
   "version": "3.9.12"
  }
 },
 "nbformat": 4,
 "nbformat_minor": 5
}
