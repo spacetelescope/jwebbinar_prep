{
 "cells": [
  {
   "cell_type": "markdown",
   "id": "592da8da",
   "metadata": {},
   "source": [
    "## Get observations from program ID\n",
    "Inspired by the [JWebbinar session about MAST](https://github.com/spacetelescope/jwebbinar_prep/blob/main/mast_session/Crowded_Field/Crowded_Field.ipynb)."
   ]
  },
  {
   "cell_type": "code",
   "execution_count": null,
   "id": "7e92dee7",
   "metadata": {},
   "outputs": [],
   "source": [
    "from astropy import units as u\n",
    "from astropy.coordinates import SkyCoord\n",
    "from astropy.io import fits\n",
    "from astroquery.mast import Observations"
   ]
  },
  {
   "cell_type": "markdown",
   "id": "9447551a",
   "metadata": {},
   "source": [
    "Select the proposal ID, instrument, and some useful keywords (filters in this case)."
   ]
  },
  {
   "cell_type": "code",
   "execution_count": null,
   "id": "569efa6d",
   "metadata": {},
   "outputs": [],
   "source": [
    "obs_table = Observations.query_criteria(obs_collection=[\"JWST\"], \n",
    "                                        instrument_name=[\"NIRCAM/IMAGE\"],\n",
    "                                        filters=['F115W','F150W','F200W','F277W','F356W','F444W'],\n",
    "                                        proposal_id=[2561])\n",
    "obs_table"
   ]
  },
  {
   "cell_type": "markdown",
   "id": "9daaeaf9",
   "metadata": {},
   "source": [
    "See the actual list of products and files."
   ]
  },
  {
   "cell_type": "code",
   "execution_count": null,
   "id": "f156b667",
   "metadata": {},
   "outputs": [],
   "source": [
    "data_products = Observations.get_product_list(obs_table)\n",
    "data_products"
   ]
  },
  {
   "cell_type": "markdown",
   "id": "162c3122",
   "metadata": {},
   "source": [
    "Filter the products to only get science products of calibration level 3 and specific product types. "
   ]
  },
  {
   "cell_type": "code",
   "execution_count": null,
   "id": "32871d49",
   "metadata": {},
   "outputs": [],
   "source": [
    "filtered_products = Observations.filter_products(data_products, \n",
    "                                                 productType=[\"SCIENCE\"],\n",
    "                                                 productSubGroupDescription=['I2D'],\n",
    "                                                 calib_level=[3])\n",
    "filtered_products"
   ]
  },
  {
   "cell_type": "markdown",
   "id": "26b0b931",
   "metadata": {},
   "source": [
    "Download products for these records (not using batch download here, but keep in mind that it can be very useful!)"
   ]
  },
  {
   "cell_type": "code",
   "execution_count": null,
   "id": "7ba9808d",
   "metadata": {},
   "outputs": [],
   "source": [
    "print('Products downloaded:')\n",
    "print(filtered_products['productFilename'])\n",
    "manifest = Observations.download_products(filtered_products)"
   ]
  },
  {
   "cell_type": "code",
   "execution_count": null,
   "id": "b7a3eb89",
   "metadata": {},
   "outputs": [],
   "source": []
  }
 ],
 "metadata": {
  "kernelspec": {
   "display_name": "JWebbinar",
   "language": "python",
   "name": "jwebbinar"
  },
  "language_info": {
   "codemirror_mode": {
    "name": "ipython",
    "version": 3
   },
   "file_extension": ".py",
   "mimetype": "text/x-python",
   "name": "python",
   "nbconvert_exporter": "python",
   "pygments_lexer": "ipython3",
   "version": "3.11.5"
  }
 },
 "nbformat": 4,
 "nbformat_minor": 5
}
