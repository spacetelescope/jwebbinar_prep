{
 "cells": [
  {
   "cell_type": "markdown",
   "metadata": {},
   "source": [
    "# Find Existing and Planned JWST Observations"
   ]
  },
  {
   "cell_type": "markdown",
   "metadata": {},
   "source": [
    "## Introduction\n",
    "\n",
    "As with _HST, JWST_ observations that duplicate existing, planned, or approved observations will be allowed only if investigators provide a scientific justification in their proposal and that request is approved. Consult the [JWST Duplicate Observations Policy](https://jwst-docs.stsci.edu/jwst-opportunities-and-policies/jwst-general-science-policies/jwst-duplicate-observations-policy) for details. Broadly speaking, observations you are considering might duplicate observations in the current or prior cycles if \n",
    "your target is of the same astrophysical source, or there is significant spatial overlap of fields, **and** the following apply:\n",
    "\n",
    "  * Similar imaging passband, or overlapping spectral range\n",
    "  * Similar (spectral) resolution\n",
    "  * Similar exposure depth\n",
    "\n",
    "Observations with a different scientific instrument than one you are considering *might* still duplicate if the observing configuration and capabilities are similar (e.g., NIRCam and NIRISS imaging, or NIRCam and NIRSpec spectroscopy).\n",
    "\n",
    "This notebook illustrates how to use the python package [astroquery.mast](https://astroquery.readthedocs.io/en/latest/mast/mast.html) to search the Mikulski Archive for Space Telescopes (MAST) for potential duplicate observations. It is also possible to perform these searches with the [MAST Portal](https://mast.stsci.edu/portal/Mashup/Clients/Mast/Portal.html), but often less efficiently. "
   ]
  },
  {
   "cell_type": "markdown",
   "metadata": {},
   "source": [
    "### Special Disclaimer\n",
    "<a id=\"Disclaimer\"></a>\n",
    "\n",
    "<div class=\"alert alert-block alert-warning\">\n",
    "\n",
    "<span style=\"color:black\">\n",
    "The complete footprint of approved (but not executed) mosaicked or parallel observations is only approximate. That is, while the primary location is reported for an observation, the exact orientation is not known until the observation is scheduled for execution. Moreover metadata in MAST about planned/approved observations may not suffice to determine whether your intended observation is a genuine duplication, particularly for slit or MOS spectroscopy. You are responsible for evaluating the details of the planned observations by using the accepted program's APT file (and/or the Aladin display in APT, as appropriate) to determine if the potential duplications are genuine.\n",
    "</span>\n",
    "</div>\n"
   ]
  },
  {
   "cell_type": "markdown",
   "metadata": {},
   "source": [
    "### Table of contents\n",
    "\n",
    "<ul>\n",
    "    <li><a href=\"#Strategy\">Strategy</a></li>\n",
    "    <li><a href=\"#Setup\">Setup</a></li>\n",
    "    <ul>\n",
    "        <li><a href=\"#Utility Routines\">Utility Routines</a></li>\n",
    "    </ul>\n",
    "    <li><a href=\"#Target/Position Queries\">Queries by Target/Position</a></li>\n",
    "    <ul>\n",
    "        <li><a href=\"#Target Search\">Search by Target Name</a></li>\n",
    "        <li><a href=\"#Moving-Target\">Single Moving Target</a></li>\n",
    "    </ul>\n",
    "    <li><a href=\"#Target-List\">Checking a List of Targets</a></li>\n",
    "    <ul>\n",
    "        <li><a href=\"#Target-CSV\">Loading Targets from CSV</a></li>\n",
    "    </ul>\n",
    "    <li><a href=\"#Evaluate-Dups\">Evaluating Potential Duplications</a></li>\n",
    "    <ul>\n",
    "        <li><a href=\"#Trappist-1\">Trappist-1</a></li>\n",
    "        <li><a href=\"#V-XX-Cha\">V* XX Cha</a></li>\n",
    "        <li><a href=\"#M-57\">M 57</a></li>\n",
    "    </ul>\n",
    "    <li><a href=\"#Appendix\">Appendix: Caveats</a></li>\n",
    "    <li><a href=\"#Resources\">Additional Resources</a></li>\n",
    "</ul>"
   ]
  },
  {
   "cell_type": "markdown",
   "metadata": {},
   "source": [
    "<a id=\"Strategy\"></a>\n",
    "## Strategy\n",
    "\n",
    "The following strategy, applied to each target or field, will identify potentially duplicative observations relatively efficiently. \n",
    "\n",
    "  1. Search for common targets or fields. If no existing or planned observation coincides with your intended target, you are done.\n",
    "  2. If there is a spatial overlap, determine if the instrument(s) and observing configurations you plan to use are the same or similar to the existing observations. If there is no commonality, you are done.\n",
    "  3. If there is spatial overlap and common instruments/configuration, determine in detail the overlap in passband/spectral coverage, and exposure depth.\n",
    "  4. If there is a likely duplication for an intended target, do one of the following:\n",
    "     - Include in your proposal a scientific case for the duplicating observation(s)\n",
    "     - Alter your intended observation(s) in a way that does not duplicate\n",
    "     - Choose a different target"
   ]
  },
  {
   "cell_type": "markdown",
   "metadata": {},
   "source": [
    "<a id=\"Setup\"></a>\n",
    "## Setup\n",
    "\n",
    "Begin by importing some essential python packages: general utilities in [astropy](https://www.astropy.org/), and query services in [astroquery.mast](https://astroquery.readthedocs.io/en/latest/mast/mast.html). "
   ]
  },
  {
   "cell_type": "code",
   "execution_count": null,
   "metadata": {},
   "outputs": [],
   "source": [
    "# Give the notebook cells more of the available width\n",
    "from IPython.display import display, HTML\n",
    "display(HTML(\"<style>.container { width:99% !important; }</style>\"))"
   ]
  },
  {
   "cell_type": "code",
   "execution_count": null,
   "metadata": {},
   "outputs": [],
   "source": [
    "import astropy\n",
    "from astropy import table\n",
    "from astropy.table import Table, unique\n",
    "from astropy import units as u\n",
    "from astropy.coordinates import Angle\n",
    "from astroquery.mast import Mast\n",
    "from astroquery.mast import Observations\n",
    "import numpy as np"
   ]
  },
  {
   "cell_type": "markdown",
   "metadata": {},
   "source": [
    "<a id=\"Utility Routines\"></a>\n",
    "### Utility Routines\n",
    "\n",
    "The following utility routine will create URLs to the parent programs of matching observations. "
   ]
  },
  {
   "cell_type": "code",
   "execution_count": null,
   "metadata": {},
   "outputs": [],
   "source": [
    "APT_LINK = '(http://www.stsci.edu/cgi-bin/get-proposal-info?id={}&observatory=JWST)'\n",
    "\n",
    "def get_program_URL(program_id):\n",
    "    '''\n",
    "    Generate the URL for program status information, given a program ID. \n",
    "    '''\n",
    "    return APT_LINK.format(program_id)"
   ]
  },
  {
   "cell_type": "markdown",
   "metadata": {},
   "source": [
    "The following utility routine will construct ranges in RA and Dec to facilitate queries in an area surrounding a given place in the sky."
   ]
  },
  {
   "cell_type": "code",
   "execution_count": null,
   "metadata": {},
   "outputs": [],
   "source": [
    "def coord_ranges(ra, dec, extent_ra, extent_dec):\n",
    "    '''\n",
    "    Parameters\n",
    "    ----------\n",
    "    ra:         right ascension coordinate (deg)\n",
    "    dec:        declination coordinate (deg)\n",
    "    extent_ra:  spatial extent in RA (deg)\n",
    "    extent_dec: spatial extent in Dec (deg)\n",
    "    '''\n",
    "    # correct width in ra for declination\n",
    "    half_width = np.abs(extent_ra / 2. )\n",
    "    ra_range = [ra-half_width, ra+half_width]\n",
    "\n",
    "    half_width = extent_dec / 2.\n",
    "    dec_range = [dec-half_width, dec+half_width]\n",
    "    return (ra_range, dec_range)"
   ]
  },
  {
   "cell_type": "markdown",
   "metadata": {},
   "source": [
    "<a id=\"Target/Position Queries\"></a>\n",
    "## Queries by Target/Postion\n",
    "\n",
    "All of the queries below search for JWST observations, using a search radius larger than fields of view (FoV) of JWST apertures, to allow for the possibility that the FoV may be rotated when approved-but-unexecuted observations are actually scheduled. Restrict the search to JWST by including the parameter: `obs_collection = \"JWST\"`. "
   ]
  },
  {
   "cell_type": "markdown",
   "metadata": {},
   "source": [
    "<div class=\"alert alert-block alert-warning\">\n",
    "\n",
    "<span style=\"color:black\">\n",
    "<b>Searching for source names is not recommended</b> when checking for potential duplications with fixed targets because the matches are not reliable, consistent, or complete. <i>The exception would be for matching Object names of well known solar system bodies.</i>\n",
    "\n",
    "The best approach is to use an independent source for the coordinates of your desired target. Failing that, the <b>Mast.resolve_object()</b> method will return coordinates in the ICRS reference frame, which you can use to verify whether a target name resolves to the coordinates you intend. See the <a href=\"#Appendix\">Appendix</a> for details.\n",
    "</span>\n",
    "</div>"
   ]
  },
  {
   "cell_type": "markdown",
   "metadata": {},
   "source": [
    "<a id=\"Target Search\"></a>\n",
    "### Search by Target Name\n",
    "\n",
    "This example shows how to query for a single target with a standard name, **HD 104237** which is a T-Tauri star. We first resolve the name and verify that the coordinates are correct, using the `Mast` class and the `resolve_object()` method. "
   ]
  },
  {
   "cell_type": "code",
   "execution_count": null,
   "metadata": {},
   "outputs": [],
   "source": [
    "# Resolve the coordinates if necessary\n",
    "coords = Mast.resolve_object('HD 104237')\n",
    "coords"
   ]
  },
  {
   "cell_type": "markdown",
   "metadata": {},
   "source": [
    "In this case the resolved coordinates agree with those in [Simbad](https://simbad.u-strasbg.fr/simbad/sim-basic?Ident=HD+104237&submit=SIMBAD+search), so it is safe to execute a simple **cone search** (a search within a specified radius of a place on the sky) to find JWST existing or planned observations. \n",
    "The [astroquery.mast](https://astroquery.readthedocs.io/en/latest/mast/mast.html) package provides the method **Observations.query_criteria()** to specify the parameters for the search; provide them as `key=value` pairs. The full set of query parameters for this method may be found on [CAOM Field Descriptions](https://mast.stsci.edu/api/v0/_c_a_o_mfields.html). "
   ]
  },
  {
   "cell_type": "code",
   "execution_count": null,
   "metadata": {},
   "outputs": [],
   "source": [
    "# If the coordinates are ok\n",
    "obs = Observations.query_criteria(\n",
    "        obs_collection='JWST'\n",
    "        ,objectname='HD 104237'\n",
    "        ,radius='20s'\n",
    "        )\n",
    "print('Number of matching observations: {}'.format(len(obs)))"
   ]
  },
  {
   "cell_type": "markdown",
   "metadata": {},
   "source": [
    "<div class=\"alert alert-block alert-info\">\n",
    "\n",
    "<span style=\"color:black\">\n",
    "    The number of matches is zero, so there are no potential duplications with this target.\n",
    "</span>\n",
    "</div>"
   ]
  },
  {
   "cell_type": "markdown",
   "metadata": {},
   "source": [
    "<a id=\"Moving-Target\"></a>\n",
    "### Single Moving Target\n",
    "\n",
    "Moving targets, by definition, do not lend themselves to searches by position. This kind of search is limited to a modest set of solar system bodies with recognized names. Note the use of a wildcard character (*) to trigger a match, even when the target name includes other text."
   ]
  },
  {
   "cell_type": "code",
   "execution_count": null,
   "metadata": {},
   "outputs": [],
   "source": [
    "obs = Observations.query_criteria(\n",
    "        target_name=\"Io*\",\n",
    "        obs_collection=\"JWST\"\n",
    "        )\n",
    "    \n",
    "print('Number of matching observations: {}'.format(len(obs)))"
   ]
  },
  {
   "cell_type": "markdown",
   "metadata": {},
   "source": [
    "There are some JWST observations of **Io**, including some that are planned but have not executed as of the beginning of Cy-2 (i.e., `calib_level = -1`). The details are in the returned table of results, the most essential of which can be viewed below."
   ]
  },
  {
   "cell_type": "code",
   "execution_count": null,
   "metadata": {},
   "outputs": [],
   "source": [
    "out_cols = ['target_name','instrument_name','filters','calib_level','t_exptime','proposal_id']\n",
    "obs[out_cols].show_in_notebook()"
   ]
  },
  {
   "cell_type": "markdown",
   "metadata": {},
   "source": [
    "You may need to examine the specifics of the programs that obtained the observations to know whether your intended observations would duplicate. Here extend the results table with the unique Program Titles and URLs for the program status pages, which may offer clues:"
   ]
  },
  {
   "cell_type": "code",
   "execution_count": null,
   "metadata": {
    "scrolled": true
   },
   "outputs": [],
   "source": [
    "obs['title'] = [x[:80] for x in obs['obs_title']]\n",
    "unique(obs['proposal_id','title']).pprint(max_width=-1)\n",
    "obs['proposal_URL'] = [get_program_URL(x) for x in obs['proposal_id']]\n",
    "unique(obs['proposal_id','proposal_URL']).pprint(max_width=-1)"
   ]
  },
  {
   "cell_type": "markdown",
   "metadata": {},
   "source": [
    "<div class=\"alert alert-block alert-warning\">\n",
    "\n",
    "<span style=\"color:black\">\n",
    "    There are images, spectra and IFU observations of this target that could conflict with your intended proposal. Proposed images in passbands that overlap the IFU data would have to be examined closely for duplication. \n",
    "</span>\n",
    "</div>"
   ]
  },
  {
   "cell_type": "markdown",
   "metadata": {},
   "source": [
    "<a id=\"Target-List\"></a>\n",
    "## Checking a List of Targets\n",
    "\n",
    "It is often useful to search for individual targets with the [MAST Portal](https://mast.stsci.edu/portal/Mashup/Clients/Mast/Portal.html) because the results are easily visualized. But it is more efficient to search over a large number of targets using astroquery.mast. "
   ]
  },
  {
   "cell_type": "markdown",
   "metadata": {},
   "source": [
    "<a id=\"Target-CSV\"></a>\n",
    "### Loading Targets from CSV\n",
    "For efficiency, make a CSV (comma-separated variable) list of your targets, one per row. The list can alternatively be read from a local file: just substitute the file name for `targ_table` in the first argument of the `Table.read()` method. The list can contain many fields, but at a minimum must contain the target name and the equitorial coordinates. \n",
    "\n",
    "The *first row of the file* will be interpreted as a column name in the table. <b>This is important.</b> "
   ]
  },
  {
   "cell_type": "code",
   "execution_count": null,
   "metadata": {},
   "outputs": [],
   "source": [
    "targ_table = '''\n",
    "target_name, RA, DEC, Range, Description\n",
    "Trappist-1, 23:06:29.3684948589, -05:02:29.037301866, 20s, Exoplanet host star\n",
    "V* XX Cha, 11:11:39.559, -76:20:15.04, 20s, Variable star with debris disk\n",
    "M 31, 00:42:44.330, +41:16:07.50, 24.0m, Andromeda Galaxy\n",
    "M 57, 18:53:35.0967659112, +33:01:44.883287544, 4m, Planetary nebula\n",
    "'''\n",
    "targets = Table.read(targ_table, format='ascii.csv')"
   ]
  },
  {
   "cell_type": "markdown",
   "metadata": {},
   "source": [
    "Next, make new columns to hold the coordinates and ranges in units of degrees. "
   ]
  },
  {
   "cell_type": "code",
   "execution_count": null,
   "metadata": {},
   "outputs": [],
   "source": [
    "targets['ra_deg'] = [Angle(x+' hours').degree for x in targets['RA']]\n",
    "targets['dec_deg'] = [Angle(x+' degree').degree for x in targets['DEC']]\n",
    "targets['range_deg'] = [Angle(x).degree for x in targets['Range']]\n",
    "targets['N_obs'] = 0  # field to hold the count of matched observations \n",
    "targets"
   ]
  },
  {
   "cell_type": "markdown",
   "metadata": {},
   "source": [
    "It can save some effort to determine the number of JWST Observations that match each of your targets using the <b><code>query_criteria_count()</code></b> method. Note that the coordinate parameters must be specified as lower and upper bounds of a range (i.e., a python list), so use the `coord_ranges()` utility function.\n",
    "\n",
    "<div class=\"alert alert-block alert-info\">\n",
    "\n",
    "<span style=\"color:black\">\n",
    "It is good practice to first check the number of matching observations before fetching the results themselves, in case the number of results is very large. This is more important when querying MAST missions with a very large number of observations, such as <i>HST</i>. This type of search is typically fairly fast.\n",
    "    \n",
    "</span>\n",
    "</div>"
   ]
  },
  {
   "cell_type": "code",
   "execution_count": null,
   "metadata": {},
   "outputs": [],
   "source": [
    "# get the counts of each target\n",
    "for t in targets:\n",
    "    (ra_range, dec_range) = coord_ranges(t['ra_deg'],t['dec_deg'], t['range_deg'], t['range_deg'])\n",
    "    t['N_obs'] = Observations.query_criteria_count(\n",
    "            obs_collection='JWST'\n",
    "            ,s_ra=ra_range\n",
    "            ,s_dec=dec_range\n",
    "            )\n",
    "\n",
    "targets['target_name','N_obs'].show_in_notebook()"
   ]
  },
  {
   "cell_type": "markdown",
   "metadata": {},
   "source": [
    "<div class=\"alert alert-block alert-info\">\n",
    "\n",
    "<span style=\"color:black\">\n",
    "For targets where no JWST Observations exist, there is no potential for duplication. \n",
    "</span>\n",
    "</div>"
   ]
  },
  {
   "cell_type": "markdown",
   "metadata": {},
   "source": [
    "<a id=\"Evaluate-Dups\"></a>\n",
    "## Evaluating Potential Duplications\n",
    "\n",
    "To examine the matching Observations for the other targets in more detail, use the <b><code>query_criteria()</code></b>\n",
    "method. "
   ]
  },
  {
   "cell_type": "code",
   "execution_count": null,
   "metadata": {},
   "outputs": [],
   "source": [
    "targets['obs'] = None\n",
    "for t in targets:\n",
    "    if t['N_obs'] > 0:\n",
    "        (ra_range, dec_range) = coord_ranges(t['ra_deg'],t['dec_deg'], t['range_deg'], t['range_deg'])\n",
    "        t['obs'] = Observations.query_criteria(\n",
    "            obs_collection=\"JWST\"\n",
    "            ,s_ra=ra_range\n",
    "            ,s_dec=dec_range\n",
    "            )"
   ]
  },
  {
   "cell_type": "markdown",
   "metadata": {},
   "source": [
    "Targets with matching JWST Observations are examined in the following sub-sections."
   ]
  },
  {
   "cell_type": "markdown",
   "metadata": {},
   "source": [
    "<a id=\"Trappist-1\"></a>\n",
    "### Trappist-1\n",
    "\n",
    "Trappist-1 is a well known exo-planet host star. If the intended observations are timeseries spectroscopy, the search would naturally be limited to a small area of sky. There are a few JWST observations of this target, so it is important to examine the relevant details. "
   ]
  },
  {
   "cell_type": "code",
   "execution_count": null,
   "metadata": {},
   "outputs": [],
   "source": [
    "out_cols = ['target_name','instrument_name','filters','t_exptime','proposal_id']\n",
    "obs = targets[0]['obs']\n",
    "unique(obs[out_cols]).show_in_notebook()"
   ]
  },
  {
   "cell_type": "markdown",
   "metadata": {},
   "source": [
    "You will need to examine the specifics of the programs that obtained the observations to know for certain which of the 7 known exoplanets was being observed, and therefore whether your intended observations would duplicate. Here are the unique Program Titles, which may offer clues:"
   ]
  },
  {
   "cell_type": "code",
   "execution_count": null,
   "metadata": {},
   "outputs": [],
   "source": [
    "obs['title'] = [x[:80] for x in obs['obs_title']]\n",
    "unique(obs['proposal_id','title']).pprint(max_width=-1)"
   ]
  },
  {
   "cell_type": "markdown",
   "metadata": {},
   "source": [
    "The Program Status Pages offer the complete specifications for each existing program:"
   ]
  },
  {
   "cell_type": "code",
   "execution_count": null,
   "metadata": {},
   "outputs": [],
   "source": [
    "obs['proposal_URL'] = [get_program_URL(x) for x in obs['proposal_id']]\n",
    "unique(obs['proposal_id','proposal_URL']).pprint(max_width=-1)"
   ]
  },
  {
   "cell_type": "markdown",
   "metadata": {},
   "source": [
    "<div class=\"alert alert-block alert-warning\">\n",
    "\n",
    "<span style=\"color:black\">\n",
    "    There are both NIRISS and NIRSpec spectroscopic observations of this target that could conflict with your intended proposal. \n",
    "</span>\n",
    "</div>"
   ]
  },
  {
   "cell_type": "markdown",
   "metadata": {},
   "source": [
    "<a id=\"V-XX-Cha\"></a>\n",
    "### V* XX Cha\n",
    "\n",
    "This pre-main-sequence star has a debris disk, and might be worth a coronagraphic observation. The search area is small (20 arcsec) to exclude nearby targets."
   ]
  },
  {
   "cell_type": "code",
   "execution_count": null,
   "metadata": {},
   "outputs": [],
   "source": [
    "out_cols = ['target_name','instrument_name','filters','t_exptime','calib_level','proposal_id']\n",
    "obs = targets[1]['obs']\n",
    "unique(obs[out_cols]).show_in_notebook()"
   ]
  },
  {
   "cell_type": "markdown",
   "metadata": {},
   "source": [
    "Note that some of the observations for this target had not been observed (at the beginning of Cy-2). "
   ]
  },
  {
   "cell_type": "markdown",
   "metadata": {},
   "source": [
    "<div class=\"alert alert-block alert-info\">\n",
    "\n",
    "<span style=\"color:black\">\n",
    "While JWST spectra from MIRI and NIRSpec exist or are planned, there is no potential for duplication with a coronagraphic observation. \n",
    "</span>\n",
    "</div>"
   ]
  },
  {
   "cell_type": "markdown",
   "metadata": {},
   "source": [
    "<a id=\"M-57\"></a>\n",
    "### M 57\n",
    "\n",
    "The Ring Nebula (NGC 6720) is well observed, particularly with HST and, recently, with JWST. We searched a 4-arcmin region around the source to include potential spectral Observations in the nebular periphery. The following table shows the unique combinations of instrument configurations. "
   ]
  },
  {
   "cell_type": "code",
   "execution_count": null,
   "metadata": {},
   "outputs": [],
   "source": [
    "out_cols = ['target_name','instrument_name','filters','t_exptime','proposal_id']\n",
    "obs = targets[3]['obs']\n",
    "unique(obs[out_cols]).show_in_notebook()"
   ]
  },
  {
   "cell_type": "markdown",
   "metadata": {},
   "source": [
    "<div class=\"alert alert-block alert-warning\">\n",
    "\n",
    "<span style=\"color:black\">\n",
    "    There are both MIRI and NIRCam images in many passbands, and MIRI and NIRSpec spectroscopic IFU Observations of this target that could conflict with the intended proposal. \n",
    "</span>\n",
    "</div>"
   ]
  },
  {
   "cell_type": "markdown",
   "metadata": {},
   "source": [
    "To retain this target it would be necessary to obtain spectra in a different location, or to use a different instrument/configuration/data-taking mode (e.g., time-series of the central star). It may be helpful to see the [footprints of these Observations](https://mast.stsci.edu/portal/Mashup/Clients/Mast/Portal.html?searchQuery=%7B%22service%22%3A%22CAOMFILTERED%22%2C%22inputText%22%3A%5B%7B%22paramName%22%3A%22obs_collection%22%2C%22niceName%22%3A%22obs_collection%22%2C%22values%22%3A%5B%22JWST%22%5D%2C%22valString%22%3A%22JWST%22%2C%22isDate%22%3Afalse%2C%22separator%22%3A%22%3B%22%2C%22facetType%22%3A%22discrete%22%2C%22displayString%22%3A%22JWST%22%7D%5D%2C%22position%22%3A%22283.39623652463%2C%2033.02913424654%2C%200.066667%22%2C%22paramsService%22%3A%22Mast.Caom.Filtered.Position%22%2C%22title%22%3A%22MAST%3A%20%20Advanced%20Search%201%22%2C%22tooltip%22%3A%22JWST%3B%20%20m%2057%20r%3D4m%3B%22%2C%22ra%22%3A283.39623652463%2C%22dec%22%3A33.02913424654%2C%22radius%22%3A0.066667%2C%22columns%22%3A%22*%22%2C%22columnsConfig%22%3A%22Mast.Caom.Cone%22%7D) in the MAST Portal, or to view the observation specifications in Program [GO-1558](https://www.stsci.edu/cgi-bin/get-proposal-info?id=1558&observatory=JWST)."
   ]
  },
  {
   "cell_type": "markdown",
   "metadata": {},
   "source": [
    "<a id=\"Appendix\"></a>\n",
    "## Appendix: Caveats"
   ]
  },
  {
   "cell_type": "markdown",
   "metadata": {},
   "source": [
    "It is possible to search MAST for individual sources by name, in one of two ways: *Object Name* or by *Target Name*. \n",
    "\n",
    "- **Object Name:** MAST invokes an astrophysical name resolver (e.g., [NED](https://ned.ipac.caltech.edu/byname) or [Simbad](https://simbad.u-strasbg.fr/simbad/sim-fid)) to look up source coordinates. Not all object names are recognized by resolvers. Also, different resolvers sometimes return substantially different coordinates; MAST will pick one of them (but not tell you which one). Sometimes the coordinates returned by the resolvers differ by substantial amounts, often because they refer to different sources.\n",
    "  - A classic case is the bright star &mu; Eri from the Bayer Greek letter system, and the star MU Eri in the general catalog of variable stars. in MAST,\n",
    "    - Searching for `* mu. eri` (or just plain `mu eri` matches **&mu; Eri** (RA = 4:45:30.15, Dec = -3:15:16.777)\n",
    "    - Searching for `V* mu eri` matches **MU Eri** (RA = 2:48:10.566, Dec = -15:18:04.03)\n",
    "- **Target Name:** This search matches to target names specified by Investigators in observing proposals to refer to sources. These are not guaranteed to match standard names for astrophysical sources, and often do not."
   ]
  },
  {
   "cell_type": "markdown",
   "metadata": {},
   "source": [
    "<div class=\"alert alert-block alert-warning\">\n",
    "\n",
    "<span style=\"color:black\">\n",
    "<b>Searching by source names is not recommended</b> when checking for potential duplications with fixed targets because the matches are not reliable, consistent, or complete. <i>The exception would be for matching Object names of well known solar system bodies.</i>\n",
    "\n",
    "The best approach is to use an independent source for the coordinates of your desired target. Failing that, the <b>Mast.resolve_object()</b> method will return coordinates in the ICRS reference frame, which you can use to verify whether a target name resolves to the coordinates you intend. See the <a href=\"#Appendix\">Appendix</a> for details.\n",
    "</span>\n",
    "</div>"
   ]
  },
  {
   "cell_type": "markdown",
   "metadata": {},
   "source": [
    "<a id=\"Resources\"></a>\n",
    "## Additional Resources\n",
    "\n",
    "* [astropy](https://docs.astropy.org/en/stable/index.html) documentation\n",
    "* [astroquery](https://astroquery.readthedocs.io/en/latest/mast/mast.html) documentation for querying MAST\n",
    "* [Queryable fields](https://mast.stsci.edu/api/v0/_c_a_o_mfields.html) in the MAST/CAOM database\n",
    "* The [MAST Portal](https://mast.stsci.edu/portal/Mashup/Clients/Mast/Portal.html) web interface"
   ]
  },
  {
   "cell_type": "markdown",
   "metadata": {},
   "source": [
    "## About this notebook\n",
    "\n",
    "This notebook was developed by Archive Sciences Branch staff. For support, please contact the Archive HelpDesk at archive@stsci.edu, or through the [JWST HelpDesk Portal](https://jwsthelp.stsci.edu). \n",
    "<img style=\"float: right;\" src=\"https://raw.githubusercontent.com/spacetelescope/notebooks/master/assets/stsci_pri_combo_mark_horizonal_white_bkgd.png\" alt=\"Space Telescope Logo\" width=\"200px\"/>\n",
    "\n",
    "**Last update:** 2023 Aug"
   ]
  },
  {
   "cell_type": "code",
   "execution_count": null,
   "metadata": {},
   "outputs": [],
   "source": []
  }
 ],
 "metadata": {
  "kernelspec": {
   "display_name": "Python 3 (ipykernel)",
   "language": "python",
   "name": "python3"
  },
  "language_info": {
   "codemirror_mode": {
    "name": "ipython",
    "version": 3
   },
   "file_extension": ".py",
   "mimetype": "text/x-python",
   "name": "python",
   "nbconvert_exporter": "python",
   "pygments_lexer": "ipython3",
   "version": "3.11.5"
  }
 },
 "nbformat": 4,
 "nbformat_minor": 4
}
