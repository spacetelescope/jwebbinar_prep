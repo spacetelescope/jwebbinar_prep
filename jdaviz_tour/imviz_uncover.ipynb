{
 "cells": [
  {
   "cell_type": "markdown",
   "id": "67166f74",
   "metadata": {},
   "source": [
    "# Explore JWST and HST images"
   ]
  },
  {
   "cell_type": "markdown",
   "id": "0e6985ac",
   "metadata": {},
   "source": [
    "In this notebook, we load Imviz and we use mainly the user interface to explore some JWST and HST images. [The data can be downloaded from Box](https://stsci.box.com/s/fui7ufapngb7qkn60ep0u79e5geb0cz0) (images are quite large so they are not packaged into a single humongous zip file. Feel free to download as many as you like.\n",
    "\n",
    "## System requirements\n",
    "First, we create an environment with jdaviz which contains all the spectroscopic packages we need.\n",
    "\n",
    "`conda create -n jdaviz python`<br>\n",
    "`conda activate jdaviz`<br>\n",
    "`pip install jdaviz`<br>\n",
    "If you wish to use the footprints from JWST, you need to install the pysiaf package too<br>\n",
    "`pip install pysiaf`"
   ]
  },
  {
   "cell_type": "code",
   "execution_count": null,
   "id": "9318cf8f",
   "metadata": {
    "scrolled": false
   },
   "outputs": [],
   "source": [
    "import warnings\n",
    "from jdaviz import Imviz\n",
    "from astropy.coordinates import SkyCoord\n",
    "from photutils.aperture import SkyCircularAperture\n",
    "from regions import RectangleSkyRegion\n",
    "import astropy.units as u"
   ]
  },
  {
   "cell_type": "markdown",
   "id": "5a68f9c8",
   "metadata": {},
   "source": [
    "Choose one of the two ways to run Imviz."
   ]
  },
  {
   "cell_type": "code",
   "execution_count": null,
   "id": "8b77df94",
   "metadata": {},
   "outputs": [],
   "source": [
    "# If in jupyter lab\n",
    "imviz = Imviz()\n",
    "imviz.show(loc='sidecar', height=1000)"
   ]
  },
  {
   "cell_type": "raw",
   "id": "b881cc50",
   "metadata": {},
   "source": [
    "# If in notebook\n",
    "imviz = Imviz()\n",
    "imviz.show(height=1000)"
   ]
  },
  {
   "cell_type": "markdown",
   "id": "e39d6825",
   "metadata": {},
   "source": [
    "## Use the GUI programmatically"
   ]
  },
  {
   "cell_type": "markdown",
   "id": "fafb30a5",
   "metadata": {},
   "source": [
    "Change path to your local directory if you are not working on the platform."
   ]
  },
  {
   "cell_type": "code",
   "execution_count": null,
   "id": "3aa0f677",
   "metadata": {},
   "outputs": [],
   "source": [
    "data_dir = '/home/shared/preloaded-fits/jdaviz_data/UNCOVER/'\n",
    "#data_dir = './UNCOVER/'\n",
    "\n",
    "files = ['jw02561-o001_t003_nircam_clear-f200w_i2d.fits',\n",
    "         'jw02561-o001_t003_nircam_clear-f444w_i2d.fits',\n",
    "         'ic8n06020_drz.fits'\n",
    "        ]\n",
    "\n",
    "labels = ['JWST F200W',\n",
    "          'JWST F444W',\n",
    "          'HST'\n",
    "         ]\n",
    "\n",
    "for i in range(0,len(files)):\n",
    "    with warnings.catch_warnings():\n",
    "        warnings.simplefilter('ignore')\n",
    "        imviz.load_data(f'{data_dir}/{files[i]}', data_label=labels[i])"
   ]
  },
  {
   "cell_type": "code",
   "execution_count": null,
   "id": "23d9b354",
   "metadata": {},
   "outputs": [],
   "source": [
    "viewer = imviz.default_viewer"
   ]
  },
  {
   "cell_type": "code",
   "execution_count": null,
   "id": "1f5d9942",
   "metadata": {},
   "outputs": [],
   "source": [
    "imviz.plugins"
   ]
  },
  {
   "cell_type": "markdown",
   "id": "99d8c984",
   "metadata": {},
   "source": [
    "### Link by WCS"
   ]
  },
  {
   "cell_type": "code",
   "execution_count": null,
   "id": "533ba9c1",
   "metadata": {},
   "outputs": [],
   "source": [
    "linkwcs = imviz.plugins['Links Control']\n",
    "linkwcs.link_type = 'WCS'"
   ]
  },
  {
   "cell_type": "markdown",
   "id": "d6022971",
   "metadata": {},
   "source": [
    "### Set better plot options"
   ]
  },
  {
   "cell_type": "code",
   "execution_count": null,
   "id": "9bf44cfd",
   "metadata": {},
   "outputs": [],
   "source": [
    "plotopt = imviz.plugins['Plot Options']\n",
    "\n",
    "plotopt.layer = 'HST[SCI,1]'\n",
    "plotopt.stretch_function = 'Logarithmic'\n",
    "plotopt.stretch_vmin = 0.52\n",
    "plotopt.stretch_vmax = 30\n",
    "plotopt.image_colormap = 'Gray'\n",
    "\n",
    "plotopt.layer = 'JWST F200W[DATA]'\n",
    "plotopt.stretch_function = 'Logarithmic'\n",
    "plotopt.stretch_vmin = 0.12\n",
    "plotopt.stretch_vmax = 20\n",
    "plotopt.image_colormap = 'Viridis'\n",
    "\n",
    "plotopt.layer = 'JWST F444W[DATA]'\n",
    "plotopt.stretch_function = 'Logarithmic'\n",
    "plotopt.stretch_vmin = 0.24\n",
    "plotopt.stretch_vmax = 20\n",
    "plotopt.image_colormap = 'Inferno'\n"
   ]
  },
  {
   "cell_type": "markdown",
   "id": "09e926c8",
   "metadata": {},
   "source": [
    "Now to blink between the images you can press the 'b' key when the mouse is on the viewer. Land on the F444W filter for the next cell."
   ]
  },
  {
   "cell_type": "markdown",
   "id": "296b96f1",
   "metadata": {},
   "source": [
    "### Spot an object that is not in the HST data"
   ]
  },
  {
   "cell_type": "code",
   "execution_count": null,
   "id": "98780983",
   "metadata": {},
   "outputs": [],
   "source": [
    "# Center the image on given sky coordinates.\n",
    "#sky = SkyCoord(ra=3.57984*u.degree, dec=-30.40156*u.degree, frame='icrs')\n",
    "sky = SkyCoord(ra=3.5757827*u.degree, dec=-30.4130878*u.degree, frame='icrs')\n",
    "viewer.center_on(sky)"
   ]
  },
  {
   "cell_type": "code",
   "execution_count": null,
   "id": "e0ff4a90",
   "metadata": {},
   "outputs": [],
   "source": [
    "# Set the zoom level directly.\n",
    "viewer.zoom_level = 3"
   ]
  },
  {
   "cell_type": "markdown",
   "id": "7960b5c3",
   "metadata": {},
   "source": [
    "### Select a subset around the object"
   ]
  },
  {
   "cell_type": "code",
   "execution_count": null,
   "id": "813ca05c",
   "metadata": {},
   "outputs": [],
   "source": [
    "interesting_object = SkyCircularAperture(sky, 0.5 * u.arcsec)\n",
    "imviz.load_regions(interesting_object)"
   ]
  },
  {
   "cell_type": "markdown",
   "id": "d5388e3a",
   "metadata": {},
   "source": [
    "### Get aperture photometry for the object"
   ]
  },
  {
   "cell_type": "code",
   "execution_count": null,
   "id": "2108a67c",
   "metadata": {},
   "outputs": [],
   "source": [
    "aperphot = imviz.plugins['Imviz Simple Aperture Photometry']\n",
    "aperphot.open_in_tray()"
   ]
  },
  {
   "cell_type": "markdown",
   "id": "47f836ab",
   "metadata": {},
   "source": [
    "### Load IFU region\n",
    "The NIRSpec IFU is a 3''x3'' square."
   ]
  },
  {
   "cell_type": "code",
   "execution_count": null,
   "id": "d28d5bd5",
   "metadata": {},
   "outputs": [],
   "source": [
    "region = RectangleSkyRegion(sky, 3*u.arcsec, 3*u.arcsec, angle=30*u.deg)\n",
    "\n",
    "footprint = imviz.plugins['Footprints']\n",
    "footprint.color = '#02d6fC'\n",
    "footprint.import_region(region)"
   ]
  },
  {
   "cell_type": "markdown",
   "id": "55e1c9ed",
   "metadata": {},
   "source": [
    "### Measure a distance\n",
    "Open the Markers plugin and mark 2 coordinates using the mouse and the 'm' key."
   ]
  },
  {
   "cell_type": "code",
   "execution_count": null,
   "id": "904e36e7",
   "metadata": {},
   "outputs": [],
   "source": [
    "markers = imviz.plugins['Markers']\n",
    "table = markers.export_table()\n",
    "table"
   ]
  },
  {
   "cell_type": "code",
   "execution_count": null,
   "id": "65119203",
   "metadata": {},
   "outputs": [],
   "source": [
    "mark1 = SkyCoord(ra=table[0]['world'][0]*u.deg, dec=table[0]['world'][1]*u.deg)\n",
    "mark2 = SkyCoord(ra=table[1]['world'][0]*u.deg, dec=table[1]['world'][1]*u.deg)\n",
    "print(\"Distance between two markers:\")\n",
    "print(mark1.separation(mark2).arcsecond, 'arcsec')"
   ]
  },
  {
   "cell_type": "code",
   "execution_count": null,
   "id": "91079871",
   "metadata": {},
   "outputs": [],
   "source": []
  }
 ],
 "metadata": {
  "kernelspec": {
   "display_name": "Python 3 (ipykernel)",
   "language": "python",
   "name": "python3"
  },
  "language_info": {
   "codemirror_mode": {
    "name": "ipython",
    "version": 3
   },
   "file_extension": ".py",
   "mimetype": "text/x-python",
   "name": "python",
   "nbconvert_exporter": "python",
   "pygments_lexer": "ipython3",
   "version": "3.9.7"
  }
 },
 "nbformat": 4,
 "nbformat_minor": 5
}
