{
 "cells": [
  {
   "cell_type": "markdown",
   "id": "2844541c",
   "metadata": {},
   "source": [
    "# JWST Fetch Crowded Field Spectral Products\n",
    "\n",
    "## Introduction\n",
    "\n",
    "This tutorial will demonstrate how to use [astroquery.mast](https://astroquery.readthedocs.io/en/latest/mast/mast.html) to retrieve and download JWST data products. \n",
    "Our goal is to retrieve the set of spectral data products needed to run the JWST processing pipeline. Once a user has these products, they would then perform their own extractions within crowded fields (e.g., within a stellar cluster, the Galactic Center, or a deep image of a galaxy cluster). \n",
    "\n",
    "This notebook walks through the process as follows:\n",
    "\n",
    "* First we will demonstrate how to use `astroquery.mast` to perform the three basics of data search and retrieval. We will use images from the [Early Relase Observation (ERO) of NGC 3132](https://webbtelescope.org/contents/media/images/2022/033/01G709QXZPFH83NZFAFP66WVCZ) (the Southern Ring Nebula) for this first part. The basic steps to download data from MAST are:\n",
    "    1. Conduct a search for observations.\n",
    "    2. Retrieve the set of products for those observations.\n",
    "    3. Download the products you want.\n",
    "    \n",
    "    \n",
    "* Then we will walk through these steps for a [wide-field slitless spectroscopy](https://jwst-docs.stsci.edu/methods-and-roadmaps/jwst-wide-field-slitless-spectroscopy) program, and explain some of the challenges involved when there can be thousands of products associated with the observations. We will show how you can filter these products to only get the ones you need, and demonstrate the batch download technique we recommend when requesting large amounts of data, to make your retrieval process as smooth as possible. "
   ]
  },
  {
   "cell_type": "markdown",
   "id": "366329cf",
   "metadata": {},
   "source": [
    "## Table of Contents\n",
    "- [Imports](#Imports)<br>\n",
    "- [The Basics Of Searching and Downloading Data Through astroquery.mast](#The-Basics-Of-Searching-and-Downloading-Data-Through-astroquery.mast)<br>\n",
    "    - [Step 1: Searching For Observations](#Step-1:-Searching-For-Observations)<br>\n",
    "        - [Search By Object Coordinates](#Search-By-Object-Coordinates)<br>\n",
    "        - [Search By Resolvable Object Name](#Search-By-Resolvable-Object-Name)<br>\n",
    "        - [Search By Observational Metadata](#Search-By-Observational-Metadata)<br>\n",
    "    - [Step 2: Retrieving Data Products](#Step-2:-Retrieving-Data-Products)\n",
    "    - [Step 3: Downloading Data Products](#Step-3:-Downloading-Data-Products)\n",
    "- [Downloading Calibrated Data For Multi-Object Spectral Programs](#Downloading-Calibrated-Data-For-Multi-Object-Spectral-Programs)"
   ]
  },
  {
   "cell_type": "markdown",
   "id": "d2ace370",
   "metadata": {},
   "source": [
    "## Imports\n",
    "* We use the astropy [Units](https://docs.astropy.org/en/stable/units/index.html?highlight=units) module to define physical units.\n",
    "* We use the `SkyCoord` class from the [astropy.coordinates](https://docs.astropy.org/en/stable/coordinates/index.html?highlight=coordinates) module to define coordinates.\n",
    "* We use the `fits` module from [astropy.io](https://docs.astropy.org/en/stable/io/fits/index.html?highlight=fits) to read data contained in FITS files.\n",
    "* We import a couple options from [astropy.visualization](https://docs.astropy.org/en/stable/visualization/index.html?highlight=visualization) for applying scaling and stretches.\n",
    "* The `Observations` class from the [astroquery.mast](https://astroquery.readthedocs.io/en/latest/mast/mast.html) module allows you to query by coordinates, resolvable target names, or observational metadata like program IDs, filters, or exposure times.\n",
    "\n",
    "* We use [matplotlib.pyplot](https://matplotlib.org/stable/tutorials/index.html) for plotting and image display."
   ]
  },
  {
   "cell_type": "code",
   "execution_count": null,
   "id": "f4160765",
   "metadata": {},
   "outputs": [],
   "source": [
    "from astropy import units as u\n",
    "from astropy.coordinates import SkyCoord\n",
    "from astropy.io import fits\n",
    "from astropy.visualization import ZScaleInterval, SquaredStretch, ImageNormalize\n",
    "from astroquery.mast import Observations\n",
    "\n",
    "import matplotlib.pyplot as plt"
   ]
  },
  {
   "cell_type": "markdown",
   "id": "1757f9d5",
   "metadata": {},
   "source": [
    "## The Basics Of Searching and Downloading Data Through astroquery.mast\n",
    "\n",
    "We'll use the ERO observations of the Southern Ring Nebula to show you how to search for observations.  You can use the `Observations` module of `astroquery.mast` in a variety of ways, including [by position](https://astroquery.readthedocs.io/en/latest/mast/mast.html#positional-queries) or by [observational metadata](https://astroquery.readthedocs.io/en/latest/mast/mast.html#observation-criteria-queries)."
   ]
  },
  {
   "cell_type": "markdown",
   "id": "be592204",
   "metadata": {},
   "source": [
    "### Step 1: Searching For Observations\n",
    "\n",
    "The first step in downloading JWST data products through `astroquery.mast` is to search for observations of interest.  There are several ways to find observations of interest, so in this section, we will demonstrate how to do: \n",
    "\n",
    "* a spatial search by providing coordinates (`query_region`), \n",
    "* a spatial search by providing a resolvable target name (`query_object`), \n",
    "* and a search based on observational metadata (`query_criteria`)."
   ]
  },
  {
   "cell_type": "markdown",
   "id": "5f6ecc4e",
   "metadata": {},
   "source": [
    "#### Search By Object Coordinates\n",
    "\n",
    "First, let's search for observations by sky coordinates of the object directly."
   ]
  },
  {
   "cell_type": "code",
   "execution_count": null,
   "id": "c2fb925a",
   "metadata": {},
   "outputs": [],
   "source": [
    "# Define the coordinates of the object.\n",
    "obj_coords = SkyCoord(\"10:07:01\", \"-40:26:14\", unit=(u.hourangle, u.deg))\n",
    "\n",
    "# Conduct a cone search centered on these coordinates.  The default search radius is 0.2 degrees.  Let's use a much\n",
    "# smaller search radius of one arcminute.\n"
   ]
  },
  {
   "cell_type": "markdown",
   "id": "d6eafe1c",
   "metadata": {},
   "source": [
    "We get back an Astropy `Table` containing observations whose footprints fall within our search radius.  But notice that this includes data from lots of missions, e.g., TESS, WUPPE, etc.  This is because the simple cone search operates across all the missions in our cross-mission database.  We'll show later how to do a search and only get back JWST mission data. Descriptions of the columns returned from an observation search are [documented here](https://mast.stsci.edu/api/v0/_c_a_o_mfields.html)."
   ]
  },
  {
   "cell_type": "code",
   "execution_count": null,
   "id": "be4c802c",
   "metadata": {},
   "outputs": [],
   "source": [
    "# The show_in_notebook() function allows us to explore an Astropy table with pagination and search capability.\n",
    "# Try searching for the JWST entries.\n",
    "\n",
    "# One of the return columns is called the 's_region', which contains the polygonal representation of the footprint\n",
    "# on the sky.  This is a very long string, and makes viewing the rest of the table difficult in a notebook. So\n",
    "# we will get a list of all the coumns except this one for display purposes.\n",
    "\n",
    "\n",
    "# Show the contents of the table.\n"
   ]
  },
  {
   "cell_type": "markdown",
   "id": "cc393d2b",
   "metadata": {},
   "source": [
    "#### Search By Resolvable Object Name\n",
    "\n",
    "Instead of specifying the coordinates, you can provide the name of an object as long as it is resolvable by Simbad, NED, or a KIC, EPIC, or TIC catalog name. This still does a cone search on the sky, by using the resolver service to translate your provided string into sky coordinates. This method does NOT do a string match for the object name in the MAST database!\n",
    "\n",
    "**Note:** When resolving KIC, EPIC, and TIC names, make sure you include the catalog name. For example, search for `'TIC 100100827'` rather than `'100100827'`.\n",
    "\n"
   ]
  },
  {
   "cell_type": "code",
   "execution_count": null,
   "id": "5b0f8f85",
   "metadata": {},
   "outputs": [],
   "source": [
    "# Conduct a cone search by passing a resolvable target name.\n"
   ]
  },
  {
   "cell_type": "code",
   "execution_count": null,
   "id": "27e0268b",
   "metadata": {},
   "outputs": [],
   "source": [
    "# Show the contents of the table.\n"
   ]
  },
  {
   "cell_type": "markdown",
   "id": "f7d14e1b",
   "metadata": {},
   "source": [
    "#### Search By Observational Metadata\n",
    "\n",
    "You can also perform a search by observational metadata; for example, program ID, instrument, or filter. We used the `query_region` method above to do cone searches. For metadata queries, we'll use the `query_criteria` method.\n",
    "\n",
    "First, let's see what metadata is at our disposal to query with. You can view the list of observations metadata on [this webpage](https://mast.stsci.edu/api/v0/_c_a_o_mfields.html), or you can do a Python command to see the list of metadata like so: "
   ]
  },
  {
   "cell_type": "code",
   "execution_count": null,
   "id": "d3b2b255",
   "metadata": {
    "scrolled": true
   },
   "outputs": [],
   "source": []
  },
  {
   "cell_type": "code",
   "execution_count": null,
   "id": "4c705cf8",
   "metadata": {},
   "outputs": [],
   "source": [
    "# Search for all observations for a given JWST proposal ID.  In this case, Program ID 2733, the ERO program.\n",
    "# Make sure to specify the obs_collection (mission) = JWST to avoid any other data sets that might have a proposal\n",
    "# ID of 2733, e.g. HST.\n"
   ]
  },
  {
   "cell_type": "code",
   "execution_count": null,
   "id": "ba3eed6a",
   "metadata": {},
   "outputs": [],
   "source": [
    "# Show the contents of the table.\n"
   ]
  },
  {
   "cell_type": "markdown",
   "id": "1999012c",
   "metadata": {},
   "source": [
    "For our final example, let's only search for the MIRI images from this program ID.  You can combine a metadata\n",
    "query WITH a cone search on the sky by including a `coordinates` and optional `radius` argument.  Let's do that\n",
    "now just for demonstration purposes."
   ]
  },
  {
   "cell_type": "code",
   "execution_count": null,
   "id": "57b52aa7",
   "metadata": {},
   "outputs": [],
   "source": [
    "# A metadata search that includes a cone search component.\n",
    "obj_coords = SkyCoord(\"10:07:01\", \"-40:26:14\", unit=(u.hourangle, u.deg))\n",
    "\n"
   ]
  },
  {
   "cell_type": "code",
   "execution_count": null,
   "id": "f2fd9454",
   "metadata": {},
   "outputs": [],
   "source": [
    "# Show the contents of the table.\n"
   ]
  },
  {
   "cell_type": "markdown",
   "id": "f6520ac8",
   "metadata": {},
   "source": [
    "### Step 2: Retrieving Data Products\n",
    "\n",
    "The second step is to retrieve the data products associated with a table of observations. Sometimes an observation might have a single product. Others may have thousands. For the purpose of this demo, let's just get the data products for the first MIRI observation."
   ]
  },
  {
   "cell_type": "code",
   "execution_count": null,
   "id": "cef0005c",
   "metadata": {},
   "outputs": [],
   "source": [
    "# Retrieve data products\n"
   ]
  },
  {
   "cell_type": "code",
   "execution_count": null,
   "id": "163fa3dc",
   "metadata": {
    "scrolled": true
   },
   "outputs": [],
   "source": [
    "# Let's just take a peak at the first 10 products in the returned Astropy table.\n"
   ]
  },
  {
   "cell_type": "markdown",
   "id": "98da3c45",
   "metadata": {},
   "source": [
    "### Step 3: Downloading Data Products\n",
    "\n",
    "The final step is to download the data products. As the example above shows, you may not want to download all of them. One quick way to eliminate extraneous products is with the [Minimum Recommended Products](https://outerspace.stsci.edu/display/MASTDOCS/Minimum+Recommended+Products) argument (`mrp_only`). Setting the `mrp_only` argument to `True` returns the \"most useful\" products; in the case of JWST, this will exclude guide-star products and return only the most calibrated results.\n",
    "\n",
    "By default, `download_products` will have this set to False and you will download all available products."
   ]
  },
  {
   "cell_type": "code",
   "execution_count": null,
   "id": "a6ae116e",
   "metadata": {},
   "outputs": [],
   "source": [
    "# Download the Minimum Recommended Products for our MIRI Observations.\n"
   ]
  },
  {
   "cell_type": "code",
   "execution_count": null,
   "id": "6ad416b4",
   "metadata": {},
   "outputs": [],
   "source": [
    "# The return is an Astropy table that contains status of your download and the local path where it saved the file.\n"
   ]
  },
  {
   "cell_type": "code",
   "execution_count": null,
   "id": "e67b2234",
   "metadata": {},
   "outputs": [],
   "source": [
    "# To complete this part of the tutorial, let's show the image! Let's select the row containing the i2d.fits file.\n",
    "\n",
    "\n",
    "# Store the local path as a scalar string.\n"
   ]
  },
  {
   "cell_type": "code",
   "execution_count": null,
   "id": "b4e73df6",
   "metadata": {},
   "outputs": [],
   "source": [
    "# Read in the image data.\n"
   ]
  },
  {
   "cell_type": "code",
   "execution_count": null,
   "id": "2538c460",
   "metadata": {},
   "outputs": [],
   "source": [
    "# Show the image.\n",
    "norm = ImageNormalize(sci_data, \n",
    "                      interval=ZScaleInterval(),\n",
    "                      stretch=SquaredStretch())\n",
    "\n",
    "\n",
    "# Colorbar\n",
    "im_ratio = sci_data.shape[0]/sci_data.shape[1]\n",
    "plt.colorbar(fraction=0.047*im_ratio)"
   ]
  },
  {
   "cell_type": "markdown",
   "id": "f121c1b9",
   "metadata": {},
   "source": [
    "# Short Pause!\n",
    "\n",
    "Any questions or issues following along as we covered searching and downloading data from the ERO observations of the Southern Ring Nebula?\n",
    "\n",
    "Next: Let's walk through downloading data for observations with LOTS of products and observations."
   ]
  },
  {
   "cell_type": "markdown",
   "id": "20bc8743",
   "metadata": {},
   "source": [
    "## Downloading Calibrated Data For Multi-Object Spectral Programs\n",
    "\n",
    "For this tutorial, we are going to use NIRISS data from [Program 2736](https://www.stsci.edu/cgi-bin/get-proposal-info?id=2736&observatory=JWST), the ERO program targeting the galaxy cluster SMACS 0723. \n",
    "\n",
    "Let's first do a search for this program to get the number of observations available."
   ]
  },
  {
   "cell_type": "code",
   "execution_count": null,
   "id": "9dfeae24",
   "metadata": {},
   "outputs": [],
   "source": [
    "# Get all JWST observations from Program 2736.  We only want the spectroscopic (wide-field slitless\n",
    "# spectroscopy, or \"WFSS\") observations from NIRISS, so exclude the imaging mode observatons by specifying a\n",
    "# product type in our observation query.\n",
    "\n",
    "\n",
    "print(\"Number of observations: {0:d}\".format(n_obs))"
   ]
  },
  {
   "cell_type": "markdown",
   "id": "f3491629",
   "metadata": {},
   "source": [
    "This one program has nearly two _thousand_ NIRISS observations at MAST.  Most of these are Stage 3 products in the form of extracted spectra. If we request all the files associated with these observations, the service will need to return so many files it's likely to time out!\n",
    "\n",
    "In fact, for this program, there are 24,862 files across all the different instruments and stages of the pipeline products. Unfortunately, many files are associated with more than one observation. As a result, this query might return an even larger number of files, due to duplicate observations. This is a quirk we are actively working on eliminating.\n",
    "\n",
    "At any rate, even if we limit only to the highest-stage of calibrated products, there are more than 5,800 NIRISS extracted spectral FITS files we can retrieve. We mention these numbers to caution you: <b>depending on the type of observation, there can be many products underneath a single observation at MAST</b>.  \n",
    "\n",
    "So how *do* we download all the calibrated products for these observations? \n",
    "\n",
    "To avoid a timeout error, we will not try to retreive products for all 2000 observations at once. Instead, we should break up our requests into batches of observations, then call `download_products()` directly on those batches. Batches of five generally perform best, without running the risk of timing out. Once we have the results, we can request only the calibrated data products to download.  Let's do that now."
   ]
  },
  {
   "cell_type": "code",
   "execution_count": null,
   "id": "03b58570",
   "metadata": {},
   "outputs": [],
   "source": [
    "# For the purposes of our tutorial, we don't *actually* want to download thousands of files, so instead of looping\n",
    "# through the complete set of 1,900+ observations, let's trim our Astropy table to the first 20 rows.\n",
    "# If you want to try to retrieve all the products on your own time, just comment out these two lines below.\n"
   ]
  },
  {
   "cell_type": "code",
   "execution_count": null,
   "id": "b106c321",
   "metadata": {},
   "outputs": [],
   "source": [
    "# We will request products for the CAOM Observations in batches to minimize the number of requests made at once.\n"
   ]
  },
  {
   "cell_type": "code",
   "execution_count": null,
   "id": "5809016c",
   "metadata": {},
   "outputs": [],
   "source": [
    "# Let's split up ``obs_table`` into batches according to our batch size.\n"
   ]
  },
  {
   "cell_type": "markdown",
   "id": "4a26620e",
   "metadata": {},
   "source": [
    "We've got our table of 20 products and split it up into batches of 5. Now it's time to retrieve the products that correspond to our observations in each batch and download them. In the previous example using `get_product_list`, we fed it an Astropy table object of observations, but you can also feed it a single or list of `obsid`s to retrieve the corresponding products. That's what we'll do for this example.\n",
    "\n",
    "Note: The `obsid`, or MAST Product Group Identifier, is an arbitrary number used to identify observations that have a set of corresponding products in the MAST database. Not to be confused with `obs_id` which is discussed in `Exoplanet_Spectra.ipynb`."
   ]
  },
  {
   "cell_type": "code",
   "execution_count": null,
   "id": "c7056aca",
   "metadata": {},
   "outputs": [],
   "source": [
    "# Now let's get the products for each batch of observations, and filter down to only the science products.\n",
    "for index, batch in enumerate(obs_batches):\n",
    "    \n",
    "    # Progress indicator...\n",
    "    print('\\n'+f'Batch #{index+1}')\n",
    "    \n",
    "    # Make a list of the `obsid` identifiers from our Astropy table of observations to get products for.\n",
    "    \n",
    "    print('Working with the following ``obsid``s:')\n",
    "    \n",
    "    \n",
    "    # Get list of products \n",
    "    \n",
    "    \n",
    "    # Filter the products to only get science products of calibration level 3 \n",
    "    \n",
    "    \n",
    "    # Download products for these records.\n",
    "    print('Products downloaded:')\n",
    "    "
   ]
  },
  {
   "cell_type": "markdown",
   "id": "16d3d327",
   "metadata": {},
   "source": [
    "## About this notebook\n",
    "\n",
    "This notebook was developed by Scott Fleming and Jenny Medina. For support, please contact the Archive HelpDesk at archive@stsci.edu, or through the [JWST HelpDesk Portal](https://jwsthelp.stsci.edu). \n",
    "<img style=\"float: right;\" src=\"https://raw.githubusercontent.com/spacetelescope/notebooks/master/assets/stsci_pri_combo_mark_horizonal_white_bkgd.png\" alt=\"Space Telescope Logo\" width=\"200px\"/>"
   ]
  }
 ],
 "metadata": {
  "kernelspec": {
   "display_name": "Python 3 (ipykernel)",
   "language": "python",
   "name": "python3"
  },
  "language_info": {
   "codemirror_mode": {
    "name": "ipython",
    "version": 3
   },
   "file_extension": ".py",
   "mimetype": "text/x-python",
   "name": "python",
   "nbconvert_exporter": "python",
   "pygments_lexer": "ipython3",
   "version": "3.9.7"
  }
 },
 "nbformat": 4,
 "nbformat_minor": 5
}
